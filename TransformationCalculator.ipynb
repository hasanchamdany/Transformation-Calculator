{
 "cells": [
  {
   "cell_type": "markdown",
   "metadata": {},
   "source": [
    "#Transformation Calculator"
   ]
  },
  {
   "cell_type": "markdown",
   "metadata": {},
   "source": [
    "##Initial Matrix"
   ]
  },
  {
   "cell_type": "code",
   "execution_count": 5,
   "metadata": {},
   "outputs": [],
   "source": [
    "import numpy as np\n",
    "\n",
    "A = np.array([[2, 4, 4, 3, 2],\n",
    "             [2, 2, 8, 10, 8],\n",
    "             [1, 1, 1, 1, 1]])"
   ]
  },
  {
   "cell_type": "markdown",
   "metadata": {},
   "source": [
    "##Translation"
   ]
  },
  {
   "cell_type": "code",
   "execution_count": 6,
   "metadata": {},
   "outputs": [
    {
     "name": "stdout",
     "output_type": "stream",
     "text": [
      "[[ 5  7  7  6  5]\n",
      " [ 6  6 12 14 12]\n",
      " [ 1  1  1  1  1]]\n"
     ]
    }
   ],
   "source": [
    "#Variabel T adalah matrix translasi dengan x = 3 dam y = 4\n",
    "T = np.array([[1, 0, 3],\n",
    "             [0, 1, 4],\n",
    "             [0, 0, 1]])\n",
    "\n",
    "Translasi = np.dot(T, A)\n",
    "print (Translasi)"
   ]
  },
  {
   "cell_type": "markdown",
   "metadata": {},
   "source": [
    "##Sharing"
   ]
  },
  {
   "cell_type": "code",
   "execution_count": 7,
   "metadata": {},
   "outputs": [
    {
     "name": "stdout",
     "output_type": "stream",
     "text": [
      "[[ 35  37  67  76  65]\n",
      " [251 265 481 546 467]\n",
      " [  1   1   1   1   1]]\n"
     ]
    }
   ],
   "source": [
    "#sharing dengan X = 5\n",
    "ShX = np.array([[1, 5, 0],\n",
    "                [0, 1, 0],\n",
    "                [0, 0, 1]])\n",
    "ShY = np.array([[1, 0, 0],\n",
    "                [7, 1, 0],\n",
    "                [0, 0, 1]])\n",
    "\n",
    "Sh = np.dot(ShY, ShX)\n",
    "sharing = np.dot(Sh, Translasi)\n",
    "print(sharing)\n"
   ]
  },
  {
   "cell_type": "markdown",
   "metadata": {},
   "source": [
    "##Scaling"
   ]
  },
  {
   "cell_type": "code",
   "execution_count": 8,
   "metadata": {},
   "outputs": [
    {
     "name": "stdout",
     "output_type": "stream",
     "text": [
      "[[  70   74  134  152  130]\n",
      " [ 502  530  962 1092  934]\n",
      " [   1    1    1    1    1]]\n"
     ]
    }
   ],
   "source": [
    "#scaling secara homogen x dan y sebesar 2\n",
    "Sc = np.array([[2, 0, 0],\n",
    "               [0, 2, 0],\n",
    "               [0, 0, 1]])\n",
    "\n",
    "scaling = np.dot(Sc, sharing)\n",
    "print(scaling)"
   ]
  }
 ],
 "metadata": {
  "interpreter": {
   "hash": "92ca40b870dd37ae9a174aff70e5b75d5a4d94785eef13ea90ad48837d6f745e"
  },
  "kernelspec": {
   "display_name": "Python 3.9.7 ('base')",
   "language": "python",
   "name": "python3"
  },
  "language_info": {
   "codemirror_mode": {
    "name": "ipython",
    "version": 3
   },
   "file_extension": ".py",
   "mimetype": "text/x-python",
   "name": "python",
   "nbconvert_exporter": "python",
   "pygments_lexer": "ipython3",
   "version": "3.9.7"
  },
  "orig_nbformat": 4
 },
 "nbformat": 4,
 "nbformat_minor": 2
}
